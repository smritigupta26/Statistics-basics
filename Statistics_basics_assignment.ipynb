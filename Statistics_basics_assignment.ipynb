{
  "nbformat": 4,
  "nbformat_minor": 0,
  "metadata": {
    "colab": {
      "provenance": []
    },
    "kernelspec": {
      "name": "python3",
      "display_name": "Python 3"
    },
    "language_info": {
      "name": "python"
    }
  },
  "cells": [
    {
      "cell_type": "markdown",
      "source": [
        "#STATISTICS BASIC ASSIGNMENT\n",
        "\n",
        "## THEORATICAL QUESTIONS / ANSWERS\n",
        "\n",
        "\n",
        "### Q1. *What is statistics, and why is it important?*\n",
        "\n",
        "ANS 1. *Statistics* is the science of collecting, analyzing, interpreting, presenting, and organizing data.\n",
        "\n",
        "*Importance:*\n",
        "\n",
        "* Helps in making informed decisions using data.\n",
        "* Identifies trends and patterns.\n",
        "* Used in research, business, economics, and many scientific fields.\n",
        "\n",
        "---\n",
        "\n",
        "### Q2. *What are the two main types of statistics?*\n",
        "\n",
        "ANS 2. The two main types of statistics are :-  \n",
        "\n",
        "* *Descriptive Statistics*: Summarizes and describes features of a dataset.\n",
        "* *Inferential Statistics*: Makes predictions or inferences about a population based on a sample.\n",
        "\n",
        "---\n",
        "\n",
        "### Q3. *What are descriptive statistics?*\n",
        "\n",
        "ANS 3. Descriptive statistics involve methods for summarizing data using:\n",
        "\n",
        "* Measures of central tendency (mean, median, mode)\n",
        "* Measures of dispersion (range, variance, standard deviation)\n",
        "* Tables, graphs, and charts\n",
        "\n",
        "---\n",
        "\n",
        "### Q4. *What is inferential statistics?*\n",
        "\n",
        "ANS 4. Inferential statistics use a random sample of data taken from a population to describe and make inferences about the population.\n",
        "Examples: Hypothesis testing, confidence intervals, regression analysis.\n",
        "\n",
        "---\n",
        "\n",
        "### Q5. *What is sampling in statistics?*\n",
        "\n",
        "ANS 5. Sampling is the process of selecting a subset (sample) from a larger population to analyze and draw conclusions about the whole.\n",
        "\n",
        "---\n",
        "\n",
        "### Q6. *What are the different types of sampling methods?*\n",
        "\n",
        "ANS 6. The different types of sampling methods are :-\n",
        "\n",
        "* *Random Sampling*\n",
        "* *Stratified Sampling*\n",
        "* *Systematic Sampling*\n",
        "* *Cluster Sampling*\n",
        "* *Convenience Sampling*\n",
        "\n",
        "---\n",
        "\n",
        "### Q7. *What is the difference between random and non-random sampling?*\n",
        "\n",
        "ANS 7. Difference between random and non-random sampling are:-\n",
        "\n",
        "* *Random Sampling*: Every member has an equal chance of selection. Reduces bias.\n",
        "* *Non-random Sampling*: Not all individuals have an equal chance. Can lead to bias.\n",
        "\n",
        "---\n",
        "\n",
        "### Q8. *Define and give examples of qualitative and quantitative data.*\n",
        "\n",
        "ANS 8. Example of qualitative and quantitative data are :-    \n",
        "\n",
        "* *Qualitative Data*: Non-numerical, describes qualities.\n",
        "  Example: Colors, gender, names.\n",
        "* *Quantitative Data*: Numerical, can be measured.\n",
        "  Example: Age, height, income.\n",
        "\n",
        "---\n",
        "\n",
        "### Q9. *What are the different types of data in statistics?*\n",
        "\n",
        "ANS 9. Different types of data in statistics are :-    \n",
        "\n",
        "* *Nominal*: Categories with no order (e.g., colors).\n",
        "* *Ordinal*: Categories with order (e.g., ranks).\n",
        "* *Interval*: Numerical data without a true zero (e.g., temperature).\n",
        "* *Ratio*: Numerical data with a true zero (e.g., height, weight).\n",
        "\n",
        "---\n",
        "\n",
        "### Q10. *Explain nominal, ordinal, interval, and ratio levels of measurement.*\n",
        "\n",
        "ANS 10.\n",
        "* *Nominal*: Names/labels (no order).\n",
        "* *Ordinal*: Ordered categories (but not evenly spaced).\n",
        "* *Interval*: Ordered, evenly spaced, no true zero (e.g., 0°C ≠ no temperature).\n",
        "* *Ratio*: Ordered, evenly spaced, true zero (e.g., 0 kg = no weight).\n",
        "\n",
        "---\n",
        "\n",
        "### Q11. *What is the measure of central tendency?*\n",
        "\n",
        "ANS 11. It is a single value that represents the center point or typical value of a dataset. Includes mean, median, and mode.\n",
        "\n",
        "---\n",
        "\n",
        "### Q12. *Define mean, median, and mode.*\n",
        "\n",
        "ANS 12.\n",
        "\n",
        "* *Mean*: Average of all values.\n",
        "* *Median*: Middle value when data is ordered.\n",
        "* *Mode*: Most frequently occurring value.\n",
        "\n",
        "---\n",
        "\n",
        "### Q13. *What is the significance of the measure of central tendency?*\n",
        "\n",
        "ANS 13. Helps to summarize a large dataset with a single representative value, making data easier to interpret and compare.\n",
        "\n",
        "---\n",
        "\n",
        "### Q14. *What is variance, and how is it calculated?*\n",
        "\n",
        "ANS 14. Variance measures how much values in a dataset differ from the mean.\n",
        "*Formula*:\n",
        "\n",
        "$$\n",
        "\\text{Variance} (\\sigma^2) = \\frac{\\sum (x_i - \\mu)^2}{n}\n",
        "$$\n",
        "\n",
        "---\n",
        "\n",
        "### Q15. *What is standard deviation, and why is it important?*\n",
        "\n",
        "ANS 15. Standard deviation is the square root of the variance. It indicates how much data deviates from the mean.\n",
        "It’s useful to understand data consistency or variability.\n",
        "\n",
        "---\n",
        "\n",
        "### Q16. *Define and explain the term range in statistics.*\n",
        "\n",
        "ANS 16. Range is the difference between the highest and lowest values in a dataset.\n",
        "*Formula*:\n",
        "\n",
        "$$\n",
        "\\text{Range} = \\text{Maximum} - \\text{Minimum}\n",
        "$$\n",
        "\n",
        "---\n",
        "\n",
        "### Q17. *What is the difference between variance and standard deviation?*\n",
        "\n",
        "ANS 17.Difference between variance and standard deviation are:-    \n",
        "\n",
        "* *Variance* is the average squared deviation.\n",
        "* *Standard deviation* is the square root of the variance, providing a value in the original units of data.\n",
        "\n",
        "---\n",
        "\n",
        "### Q18. *What is skewness in a dataset?*\n",
        "\n",
        "ANS 18. Skewness measures the asymmetry of the data distribution.\n",
        "\n",
        "* *Positive skew*: Tail on the right.\n",
        "* *Negative skew*: Tail on the left.\n",
        "\n",
        "---\n",
        "\n",
        "### Q19. *What does it mean if a dataset is positively or negatively skewed?*\n",
        "\n",
        "ANS 19. If a dataset is positively or negatively skewed\n",
        "\n",
        "* *Positively skewed*: Mean > Median > Mode\n",
        "* *Negatively skewed*: Mean < Median < Mode\n",
        "\n",
        "---\n",
        "\n",
        "### Q20. *Define and explain kurtosis.*\n",
        "\n",
        "ANS 20. Kurtosis measures the “tailedness” of a distribution.\n",
        "\n",
        "* *High kurtosis*: More outliers, sharper peak\n",
        "* *Low kurtosis*: Fewer outliers, flatter peak\n",
        "\n",
        "---\n",
        "\n",
        "### Q21. *What is the purpose of covariance?*\n",
        "\n",
        "ANS 21. Covariance measures the degree to which two random variables change together. It indicates the direction (positive or negative) of their relationship but not the strength. A positive covariance suggests that when one variable increases, the other tends to increase as well. Conversely, a negative covariance suggests that when one variable increases, the other tends to decrease.\n",
        "\n",
        "---\n",
        "\n",
        "### Q22. *What does correlation measure in statistics?*\n",
        "\n",
        "ANS 22. Correlation measures the strength and direction of a linear relationship between two variables. It provides a standardized measure, ranging from -1 to +1, indicating the extent to which changes in one variable correspond to changes in the other. A correlation of +1 or -1 indicates a perfect linear relationship (positive or negative, respectively), while a correlation of 0 indicates no linear relationship.\n",
        "\n",
        "---\n",
        "\n",
        "### Q23. *What is the difference between covariance and correlation?*\n",
        "\n",
        "ANS 23. The key difference is that correlation is a standardized measure of covariance. Covariance indicates the direction of the relationship between two variables, while correlation indicates both the direction and the strength of the relationship. Covariance is not standardized and can be difficult to interpret across different datasets with varying scales. Correlation, being standardized, allows for easier comparison between datasets.\n",
        "\n",
        "---\n",
        "\n",
        "### Q24. *What are some real-world applications of statistics?*\n",
        "\n",
        "ANS 24. Statistics is used in various real-world applications, including:-   \n",
        "\n",
        ". *Finance*:Analyzing market trends, predicting stock prices, and assessing investment risks.\n",
        "\n",
        ". *Healthcare*:Identifying disease patterns, evaluating the effectiveness of treatments, and predicting patient outcomes.\n",
        "\n",
        ". *Marketing*:Understanding consumer behavior, targeting advertising campaigns, and measuring the effectiveness of marketing strategies.\n",
        "\n",
        ". *Environmental Science*:Studying climate change, analyzing pollution levels, and predicting natural disasters.\n",
        "\n",
        ". *Social Sciences*:Analyzing social trends, conducting opinion polls, and understanding human behavior.\n",
        "\n",
        ". *Quality Control*:Monitoring production processes, identifying defects, and improving product quality.\n",
        "\n",
        "---"
      ],
      "metadata": {
        "id": "X5HMpMpdFeKo"
      }
    },
    {
      "cell_type": "markdown",
      "source": [
        "## PRACTICAL QUESTIONS/ANSWERS\n",
        "\n",
        "Q1. *How do you calculate the mean, median, and mode of a dataset ?*"
      ],
      "metadata": {
        "id": "_wgErrMHUxX-"
      }
    },
    {
      "cell_type": "code",
      "execution_count": 1,
      "metadata": {
        "id": "PzpOE_wAFdRX",
        "colab": {
          "base_uri": "https://localhost:8080/"
        },
        "outputId": "b60ce171-e611-4de9-f92a-2ac342f16b61"
      },
      "outputs": [
        {
          "output_type": "stream",
          "name": "stdout",
          "text": [
            "Mean: 5.5\n",
            "Median: 5.5\n",
            "Mode: 1\n"
          ]
        }
      ],
      "source": [
        "import statistics as stats\n",
        "\n",
        "dataset = [1, 2, 3, 4, 5, 6, 7, 8, 9, 10]\n",
        "print(\"Mean:\", stats.mean(dataset))\n",
        "print(\"Median:\", stats.median(dataset))\n",
        "print(\"Mode:\", stats.mode(dataset))"
      ]
    },
    {
      "cell_type": "markdown",
      "source": [
        "Q2.  *Write a Python program to compute the variance and standard deviation of a dataset.*"
      ],
      "metadata": {
        "id": "awhbYqsZIZYh"
      }
    },
    {
      "cell_type": "code",
      "source": [
        "import statistics as stats\n",
        "\n",
        "dataset = [1, 2, 3, 4, 5, 6, 7, 8, 9, 10]\n",
        "print(\"Variance:\", stats.variance(dataset))\n",
        "print(\"Standard Deviation:\", stats.stdev(dataset))\n"
      ],
      "metadata": {
        "id": "ofhqvb70VG9e",
        "colab": {
          "base_uri": "https://localhost:8080/"
        },
        "outputId": "a4db8234-bcf1-428f-c100-857ef2bc6670"
      },
      "execution_count": 2,
      "outputs": [
        {
          "output_type": "stream",
          "name": "stdout",
          "text": [
            "Variance: 9.166666666666666\n",
            "Standard Deviation: 3.0276503540974917\n"
          ]
        }
      ]
    },
    {
      "cell_type": "markdown",
      "source": [
        "Q3. *Create a dataset and classify it into nominal, ordinal, interval, and ratio types.*"
      ],
      "metadata": {
        "id": "18HgrzpMIsoI"
      }
    },
    {
      "cell_type": "code",
      "source": [
        "dataset = {\n",
        "    \"Nominal\": [\"Red\", \"Blue\", \"Green\"],\n",
        "    \"Ordinal\": [\"Poor\", \"Average\", \"Good\"],\n",
        "    \"Interval\": [10, 20, 30],\n",
        "    \"Ratio\": [100, 200, 300]\n",
        "}\n",
        "\n",
        "print (dataset)"
      ],
      "metadata": {
        "colab": {
          "base_uri": "https://localhost:8080/"
        },
        "id": "mcG4Q5-6I3yI",
        "outputId": "ae1ec5a7-ba22-4f13-9eb4-35ec511be498"
      },
      "execution_count": 4,
      "outputs": [
        {
          "output_type": "stream",
          "name": "stdout",
          "text": [
            "{'Nominal': ['Red', 'Blue', 'Green'], 'Ordinal': ['Poor', 'Average', 'Good'], 'Interval': [10, 20, 30], 'Ratio': [100, 200, 300]}\n"
          ]
        }
      ]
    },
    {
      "cell_type": "markdown",
      "source": [
        "Q4. *Implement sampling techniques like random sampling and stratified sampling.*"
      ],
      "metadata": {
        "id": "5JR-qFISJrlQ"
      }
    },
    {
      "cell_type": "code",
      "source": [
        "import pandas as pd\n",
        "from sklearn.model_selection import train_test_split\n",
        "\n",
        "# Random sampling\n",
        "data = pd.DataFrame({'value': range(1, 101)})\n",
        "random_sample = data.sample(n=10)\n",
        "print(\"Random Sample:\\n\", random_sample)\n",
        "\n",
        "# Stratified Sampling\n",
        "from sklearn.model_selection import StratifiedShuffleSplit\n",
        "\n",
        "df = pd.DataFrame({\n",
        "    'group': ['A'] * 50 + ['B'] * 50,\n",
        "    'value': range(100)\n",
        "})\n",
        "split = StratifiedShuffleSplit(n_splits=1, test_size=0.2, random_state=42)\n",
        "for train_idx, test_idx in split.split(df, df['group']):\n",
        "    strat_sample = df.loc[test_idx]\n",
        "print(\"Stratified Sample:\\n\", strat_sample)"
      ],
      "metadata": {
        "colab": {
          "base_uri": "https://localhost:8080/"
        },
        "id": "8kvO0uddKVuR",
        "outputId": "35969ae3-74da-4fb1-acf4-06407fefce36"
      },
      "execution_count": 5,
      "outputs": [
        {
          "output_type": "stream",
          "name": "stdout",
          "text": [
            "Random Sample:\n",
            "     value\n",
            "97     98\n",
            "27     28\n",
            "22     23\n",
            "96     97\n",
            "57     58\n",
            "2       3\n",
            "50     51\n",
            "87     88\n",
            "53     54\n",
            "60     61\n",
            "Stratified Sample:\n",
            "    group  value\n",
            "57     B     57\n",
            "77     B     77\n",
            "63     B     63\n",
            "51     B     51\n",
            "7      A      7\n",
            "14     A     14\n",
            "20     A     20\n",
            "75     B     75\n",
            "18     A     18\n",
            "22     A     22\n",
            "42     A     42\n",
            "58     B     58\n",
            "49     A     49\n",
            "38     A     38\n",
            "10     A     10\n",
            "93     B     93\n",
            "69     B     69\n",
            "28     A     28\n",
            "56     B     56\n",
            "84     B     84\n"
          ]
        }
      ]
    },
    {
      "cell_type": "markdown",
      "source": [
        "Q5. *Write a Python function to calculate the range of a dataset.*"
      ],
      "metadata": {
        "id": "fK8R2Xq3Kj3Y"
      }
    },
    {
      "cell_type": "code",
      "source": [
        "def data_range(data):\n",
        "    return max(data) - min(data)\n",
        "\n",
        "dataset = [1, 2, 3, 4, 5, 6, 7, 8, 9, 10]\n",
        "print(\"Range:\", data_range(dataset))"
      ],
      "metadata": {
        "colab": {
          "base_uri": "https://localhost:8080/"
        },
        "id": "Bo1Euf_jKwA4",
        "outputId": "0a9a3362-dcf9-44d5-d456-56a7dd4ce436"
      },
      "execution_count": 7,
      "outputs": [
        {
          "output_type": "stream",
          "name": "stdout",
          "text": [
            "Range: 9\n"
          ]
        }
      ]
    },
    {
      "cell_type": "markdown",
      "source": [
        "Q6. *Create a dataset and plot its histogram to visualize skewness.*"
      ],
      "metadata": {
        "id": "C0M7-cc_LVaw"
      }
    },
    {
      "cell_type": "code",
      "source": [
        "import matplotlib.pyplot as plt\n",
        "\n",
        "dataset = [1, 2, 3, 4, 5, 6, 7, 8, 9, 10]\n",
        "plt.hist(dataset, bins=5)\n",
        "plt.xlabel('Value')\n",
        "plt.ylabel('Frequency')\n",
        "plt.title('Histogram of Dataset')\n",
        "plt.show()"
      ],
      "metadata": {
        "colab": {
          "base_uri": "https://localhost:8080/",
          "height": 472
        },
        "id": "YR09AtfcLfIp",
        "outputId": "ff7b9cef-a28e-4591-fc52-34520101493e"
      },
      "execution_count": 8,
      "outputs": [
        {
          "output_type": "display_data",
          "data": {
            "text/plain": [
              "<Figure size 640x480 with 1 Axes>"
            ],
            "image/png": "[encoded data removed]"
          },
          "metadata": {}
        }
      ]
    },
    {
      "cell_type": "markdown",
      "source": [
        "Q7. *Calculate skewness and kurtosis of a dataset using Python libraries.*"
      ],
      "metadata": {
        "id": "r7PB68UTL9mp"
      }
    },
    {
      "cell_type": "code",
      "source": [
        "from scipy.stats import skew, kurtosis\n",
        "\n",
        "dataset = [1, 2, 3, 4, 5, 6, 7, 8, 9, 20]\n",
        "print(\"Skewness:\", skew(dataset))\n",
        "print(\"Kurtosis:\", kurtosis(dataset))"
      ],
      "metadata": {
        "colab": {
          "base_uri": "https://localhost:8080/"
        },
        "id": "Y0gzvsyuMLTZ",
        "outputId": "57e21283-6552-4045-b616-3c27b565f2d8"
      },
      "execution_count": 9,
      "outputs": [
        {
          "output_type": "stream",
          "name": "stdout",
          "text": [
            "Skewness: 1.6060526914810145\n",
            "Kurtosis: 2.0472380952380957\n"
          ]
        }
      ]
    },
    {
      "cell_type": "markdown",
      "source": [
        "Q8. *Generate a dataset and demonstrate positive and negative skewness.*"
      ],
      "metadata": {
        "id": "j-5aMzHDMWup"
      }
    },
    {
      "cell_type": "code",
      "source": [
        "positive_skewn = [1, 2, 3, 4, 5, 6, 7, 8, 9, 10]\n",
        "\n",
        "negative_skew = [2, 5, 8, 9, 15, 18, 19, 20, 21]\n",
        "\n",
        "print(\"Positive Skewness:\", skew(positive_skewn))\n",
        "print(\"Negative Skewness:\", skew(negative_skew))"
      ],
      "metadata": {
        "colab": {
          "base_uri": "https://localhost:8080/"
        },
        "id": "DgcyJ38PMiOY",
        "outputId": "9cbec399-c126-4765-9085-7d76d3aa1b44"
      },
      "execution_count": 15,
      "outputs": [
        {
          "output_type": "stream",
          "name": "stdout",
          "text": [
            "Positive Skewness: 0.0\n",
            "Negative Skewness: -0.3059000470893086\n"
          ]
        }
      ]
    },
    {
      "cell_type": "markdown",
      "source": [
        "Q9. *Write a Python script to calculate covariance between two datasets.*"
      ],
      "metadata": {
        "id": "9R3eCNtKOF-Q"
      }
    },
    {
      "cell_type": "code",
      "source": [
        "import numpy as np\n",
        "\n",
        "dataset1 = [1, 2, 3, 4, 5]\n",
        "dataset2 = [5, 6, 7, 8, 9]\n",
        "print(\"Covariance:\", np.cov(dataset1, dataset2))"
      ],
      "metadata": {
        "colab": {
          "base_uri": "https://localhost:8080/"
        },
        "id": "xm69S1vaOO_I",
        "outputId": "980c6260-6c50-420b-a569-f4ab34062df5"
      },
      "execution_count": 19,
      "outputs": [
        {
          "output_type": "stream",
          "name": "stdout",
          "text": [
            "Covariance: [[2.5 2.5]\n",
            " [2.5 2.5]]\n"
          ]
        }
      ]
    },
    {
      "cell_type": "markdown",
      "source": [
        "Q10. *Write a Python script to calculate the correlation coefficient between two datasets.*"
      ],
      "metadata": {
        "id": "q6NieKnoOY_B"
      }
    },
    {
      "cell_type": "code",
      "source": [
        "correlation = np.corrcoef(dataset1, dataset2)\n",
        "print(\"Correlation Coefficient:\", correlation)"
      ],
      "metadata": {
        "colab": {
          "base_uri": "https://localhost:8080/"
        },
        "id": "dEx3KfkMOgh5",
        "outputId": "50843418-1225-4d1b-bbb8-5b9cb12e6a18"
      },
      "execution_count": 20,
      "outputs": [
        {
          "output_type": "stream",
          "name": "stdout",
          "text": [
            "Correlation Coefficient: [[1. 1.]\n",
            " [1. 1.]]\n"
          ]
        }
      ]
    },
    {
      "cell_type": "markdown",
      "source": [
        "Q11. *Create a scatter plot to visualize the relationship between two variables.*"
      ],
      "metadata": {
        "id": "5JhuWLIMOgPp"
      }
    },
    {
      "cell_type": "code",
      "source": [
        "plt.scatter(dataset1, dataset2)\n",
        "plt.xlabel('Dataset 1')\n",
        "plt.ylabel('Dataset 2')\n",
        "plt.title('Scatter Plot of Datasets')\n",
        "plt.show()"
      ],
      "metadata": {
        "colab": {
          "base_uri": "https://localhost:8080/",
          "height": 472
        },
        "id": "uFwYa8jaO8S6",
        "outputId": "5e68b58d-f606-4288-bc23-8741508ee74c"
      },
      "execution_count": 21,
      "outputs": [
        {
          "output_type": "display_data",
          "data": {
            "text/plain": [
              "<Figure size 640x480 with 1 Axes>"
            ],
            "image/png": "[encoded data removed]"
          },
          "metadata": {}
        }
      ]
    },
    {
      "cell_type": "markdown",
      "source": [
        "Q12. *Implement and compare simple random sampling and systematic sampling.*"
      ],
      "metadata": {
        "id": "tPePP2wEPrHA"
      }
    },
    {
      "cell_type": "code",
      "source": [
        "random_sampling = data.sample(n=10)\n",
        "print(\"Random Sampling:\\n\", random_sampling)\n",
        "\n",
        "systematic_sampling = data.iloc[::10]\n",
        "print(\"Systematic Sampling:\\n\", systematic_sampling)"
      ],
      "metadata": {
        "colab": {
          "base_uri": "https://localhost:8080/"
        },
        "id": "Mpfhe-rVP0bv",
        "outputId": "8a37fb3b-8e4d-4963-e4f0-e4cc4ffac497"
      },
      "execution_count": 22,
      "outputs": [
        {
          "output_type": "stream",
          "name": "stdout",
          "text": [
            "Random Sampling:\n",
            "     value\n",
            "82     83\n",
            "53     54\n",
            "88     89\n",
            "94     95\n",
            "6       7\n",
            "41     42\n",
            "18     19\n",
            "34     35\n",
            "39     40\n",
            "7       8\n",
            "Systematic Sampling:\n",
            "     value\n",
            "0       1\n",
            "10     11\n",
            "20     21\n",
            "30     31\n",
            "40     41\n",
            "50     51\n",
            "60     61\n",
            "70     71\n",
            "80     81\n",
            "90     91\n"
          ]
        }
      ]
    },
    {
      "cell_type": "markdown",
      "source": [
        "Q13. * Calculate the mean, median, and mode of grouped data.*"
      ],
      "metadata": {
        "id": "6TtRQgiYQ7Fy"
      }
    },
    {
      "cell_type": "code",
      "source": [
        "import pandas as pd\n",
        "\n",
        "grouped_data = {\n",
        "    \"Class Interval\": [\"0-10\", \"10-20\", \"20-30\"],\n",
        "    \"Frequency\": [5, 8, 7]\n",
        "}\n",
        "\n",
        "df = pd.DataFrame(grouped_data)\n",
        "df[\"Midpoint\"] = [5, 15, 25]\n",
        "df[\"fx\"] = df[\"Midpoint\"] * df[\"Frequency\"]\n",
        "\n",
        "mean = df[\"fx\"].sum() / df[\"Frequency\"].sum()\n",
        "print(\"Grouped Mean:\", mean)\n",
        "print (\"Grouped median:\", df[\"Midpoint\"].iloc[1])\n",
        "print (\"Grouped mode:\", df[\"Midpoint\"].iloc[0])"
      ],
      "metadata": {
        "colab": {
          "base_uri": "https://localhost:8080/"
        },
        "id": "Ht-aIT1eSOzD",
        "outputId": "96bedd84-b1cd-4635-89a8-f2679aafa7d0"
      },
      "execution_count": 27,
      "outputs": [
        {
          "output_type": "stream",
          "name": "stdout",
          "text": [
            "Grouped Mean: 16.0\n",
            "Grouped median: 15\n",
            "Grouped mode: 5\n"
          ]
        }
      ]
    },
    {
      "cell_type": "markdown",
      "source": [
        "Q14. *Simulate data using Python and calculate its central tendency and dispersion.*"
      ],
      "metadata": {
        "id": "VzFh3Bs4SpmY"
      }
    },
    {
      "cell_type": "code",
      "source": [
        "import numpy as np\n",
        "\n",
        "stimulated_data = np.random.normal(loc=50, scale=10, size=100)\n",
        "print(\"Mean:\", np.mean(stimulated_data))\n",
        "print(\"Median:\", np.median(stimulated_data))\n",
        "print(\"Variance:\", np.var(stimulated_data))\n",
        "print(\"Standard Deviation:\", np.std(stimulated_data))\n"
      ],
      "metadata": {
        "colab": {
          "base_uri": "https://localhost:8080/"
        },
        "id": "l4Vbks-hSlzI",
        "outputId": "cd0748fa-bf1f-4b8d-aff0-acea146fc3b4"
      },
      "execution_count": 29,
      "outputs": [
        {
          "output_type": "stream",
          "name": "stdout",
          "text": [
            "Mean: 50.90666449561998\n",
            "Median: 52.18048476147578\n",
            "Variance: 127.1259596964089\n",
            "Standard Deviation: 11.275014842403042\n"
          ]
        }
      ]
    },
    {
      "cell_type": "markdown",
      "source": [
        "Q15. *Use NumPy or pandas to summarize a dataset’s descriptive statistics.*\n"
      ],
      "metadata": {
        "id": "hX-PqTrtTn2Q"
      }
    },
    {
      "cell_type": "code",
      "source": [
        "import pandas as pd\n",
        "\n",
        "data = pd.DataFrame({\n",
        "    'A': [1, 2, 3, 4, 5],\n",
        "    'B': [5, 4, 3, 2, 1]\n",
        "})\n",
        "print(data.describe())"
      ],
      "metadata": {
        "colab": {
          "base_uri": "https://localhost:8080/"
        },
        "id": "h8Z2532yT2go",
        "outputId": "6598c56a-0118-4ac1-b8a9-61da0754312c"
      },
      "execution_count": 30,
      "outputs": [
        {
          "output_type": "stream",
          "name": "stdout",
          "text": [
            "              A         B\n",
            "count  5.000000  5.000000\n",
            "mean   3.000000  3.000000\n",
            "std    1.581139  1.581139\n",
            "min    1.000000  1.000000\n",
            "25%    2.000000  2.000000\n",
            "50%    3.000000  3.000000\n",
            "75%    4.000000  4.000000\n",
            "max    5.000000  5.000000\n"
          ]
        }
      ]
    },
    {
      "cell_type": "markdown",
      "source": [
        "Q16. *Plot a boxplot to understand the spread and identify outliers.*"
      ],
      "metadata": {
        "id": "dZwhmD8KUMb5"
      }
    },
    {
      "cell_type": "code",
      "source": [
        "import matplotlib.pyplot as plt\n",
        "\n",
        "data = [1, 2, 3, 4, 5, 6, 7, 8, 9, 10]\n",
        "plt.boxplot(data)\n",
        "plt.show()\n"
      ],
      "metadata": {
        "colab": {
          "base_uri": "https://localhost:8080/",
          "height": 430
        },
        "id": "utvFmHufUTrf",
        "outputId": "4c1f7d4c-7b82-4359-8b37-5000004f833b"
      },
      "execution_count": 31,
      "outputs": [
        {
          "output_type": "display_data",
          "data": {
            "text/plain": [
              "<Figure size 640x480 with 1 Axes>"
            ],
            "image/png": "[encoded data removed]"
          },
          "metadata": {}
        }
      ]
    },
    {
      "cell_type": "markdown",
      "source": [
        "Q17. *Calculate the interquartile range (IQR) of a dataset.*"
      ],
      "metadata": {
        "id": "5fmIoDy6UfiX"
      }
    },
    {
      "cell_type": "code",
      "source": [
        "import numpy as np\n",
        "\n",
        "data = [10, 20, 30, 40, 50, 60, 70]\n",
        "q75, q25 = np.percentile(data, [75 ,25])\n",
        "iqr = q75 - q25\n",
        "print(\"IQR:\", iqr)"
      ],
      "metadata": {
        "colab": {
          "base_uri": "https://localhost:8080/"
        },
        "id": "at3lXan-Umjf",
        "outputId": "45a7b3dd-75ae-4780-d7e2-cd84c723d75a"
      },
      "execution_count": 32,
      "outputs": [
        {
          "output_type": "stream",
          "name": "stdout",
          "text": [
            "IQR: 30.0\n"
          ]
        }
      ]
    },
    {
      "cell_type": "markdown",
      "source": [
        "Q18. *Implement Z-score normalization and explain its significance.*"
      ],
      "metadata": {
        "id": "bWPqAC3tWWOL"
      }
    },
    {
      "cell_type": "code",
      "source": [
        "from scipy import stats\n",
        "\n",
        "data = [1, 2, 3, 4, 5]\n",
        "z_scores = stats.zscore(data)\n",
        "print(\"Z-scores:\", z_scores)"
      ],
      "metadata": {
        "colab": {
          "base_uri": "https://localhost:8080/"
        },
        "id": "nI8R8VDOWf-I",
        "outputId": "705c3188-4fae-4b21-b210-967dd0d6c18a"
      },
      "execution_count": 33,
      "outputs": [
        {
          "output_type": "stream",
          "name": "stdout",
          "text": [
            "Z-scores: [-1.41421356 -0.70710678  0.          0.70710678  1.41421356]\n"
          ]
        }
      ]
    },
    {
      "cell_type": "markdown",
      "source": [
        "Q19. *Compare two datasets using their standard deviations.*"
      ],
      "metadata": {
        "id": "0ta2EVGqWnsZ"
      }
    },
    {
      "cell_type": "code",
      "source": [
        "data1 = [10, 20, 30, 40, 50]\n",
        "data2 = [5, 15, 25, 35, 45]\n",
        "std1 = np.std(data1)\n",
        "std2 = np.std(data2)\n",
        "print(\"Standard Deviation of Data 1:\", std1)\n",
        "print(\"Standard Deviation of Data 2:\", std2)\n"
      ],
      "metadata": {
        "colab": {
          "base_uri": "https://localhost:8080/"
        },
        "id": "unMZzsO8YnqR",
        "outputId": "ca5b9017-eb6f-4bd5-c334-a1ea03d9694c"
      },
      "execution_count": 34,
      "outputs": [
        {
          "output_type": "stream",
          "name": "stdout",
          "text": [
            "Standard Deviation of Data 1: 14.142135623730951\n",
            "Standard Deviation of Data 2: 14.142135623730951\n"
          ]
        }
      ]
    },
    {
      "cell_type": "markdown",
      "source": [
        "Q20. *Write a Python program to visualize covariance using a heatmap.*"
      ],
      "metadata": {
        "id": "OSt8bV8kY8wn"
      }
    },
    {
      "cell_type": "code",
      "source": [
        "import seaborn as sns\n",
        "\n",
        "data1 = [1, 2, 3, 4, 5]\n",
        "data2 = [5, 4, 3, 2, 1]\n",
        "data = pd.DataFrame({'A': data1, 'B': data2})\n",
        "cov_matrix = data.cov()\n",
        "sns.heatmap(cov_matrix, annot=True, cmap='coolwarm')\n",
        "plt.show()"
      ],
      "metadata": {
        "colab": {
          "base_uri": "https://localhost:8080/",
          "height": 430
        },
        "id": "FlCsEd-4ZEw_",
        "outputId": "88112b60-78a3-41eb-b0f3-e651dd7fd944"
      },
      "execution_count": 35,
      "outputs": [
        {
          "output_type": "display_data",
          "data": {
            "text/plain": [
              "<Figure size 640x480 with 2 Axes>"
            ],
            "image/png": "[encoded data removed]"
          },
          "metadata": {}
        }
      ]
    },
    {
      "cell_type": "markdown",
      "source": [
        "Q21. *Use seaborn to create a correlation matrix for a dataset.*"
      ],
      "metadata": {
        "id": "Ia59acMTZQuP"
      }
    },
    {
      "cell_type": "code",
      "source": [
        "coor_matrix = data.corr()\n",
        "sns.heatmap(coor_matrix, annot=True, cmap='coolwarm')\n",
        "plt.show()\n"
      ],
      "metadata": {
        "colab": {
          "base_uri": "https://localhost:8080/",
          "height": 435
        },
        "id": "4oCdUaJDZduI",
        "outputId": "385921e2-ac90-40ed-f243-802afc4a59ae"
      },
      "execution_count": 36,
      "outputs": [
        {
          "output_type": "display_data",
          "data": {
            "text/plain": [
              "<Figure size 640x480 with 2 Axes>"
            ],
            "image/png": "[encoded data removed]"
          },
          "metadata": {}
        }
      ]
    },
    {
      "cell_type": "markdown",
      "source": [
        "Q22. *Generate a dataset and implement both variance and standard deviation computations.*"
      ],
      "metadata": {
        "id": "aO1UzAe4aEv_"
      }
    },
    {
      "cell_type": "code",
      "source": [
        "data = np.random.normal(loc=50, scale=10, size=100)\n",
        "print(\"Data:\",data)\n",
        "print(\"Variance:\", np.var(data))\n",
        "print(\"Standard Deviation:\", np.std(data))"
      ],
      "metadata": {
        "colab": {
          "base_uri": "https://localhost:8080/"
        },
        "id": "nH9ubrrGaMl3",
        "outputId": "8ddd4be4-d5b7-4c1c-be93-41c598e77407"
      },
      "execution_count": 37,
      "outputs": [
        {
          "output_type": "stream",
          "name": "stdout",
          "text": [
            "Data: [25.67038753 58.51349827 63.57666667 47.27704425 53.44242399 74.07957554\n",
            " 43.91163652 53.07917889 49.37726628 44.12270186 49.01806493 47.34292325\n",
            " 61.46660059 65.68301627 57.53392642 55.36318422 45.57659876 45.18645907\n",
            " 46.28913378 56.01952976 57.54144551 50.91732812 43.80056149 48.40490069\n",
            " 50.00934283 43.44410463 50.73098057 60.80212653 66.20308047 41.72217943\n",
            " 63.97551908 66.30478485 52.23485643 55.9020873  66.10384961 43.89469269\n",
            " 40.98916394 61.38878664 57.88597303 48.98681055 61.87946304 46.91215582\n",
            " 40.60232572 54.29434705 53.49921673 53.38765009 50.4073785  49.80047116\n",
            " 64.76755895 51.2956229  43.27207544 41.60154014 55.19486948 25.78863341\n",
            " 47.56018115 49.3286611  58.4860122  30.37749638 61.76308374 46.2328234\n",
            " 39.60923264 44.70882007 32.12708672 43.10408559 49.3571073  51.21028133\n",
            " 44.28864604 45.17139373 57.2654357  56.84296725 45.22395094 47.0375382\n",
            " 44.68115683 63.26803268 39.67599599 38.13289939 47.87173987 52.40363955\n",
            " 41.27092901 56.63438744 51.77676889 42.64303514 48.48962126 36.51051665\n",
            " 53.36768047 55.78606882 33.19853776 48.92614012 33.90187778 44.81508394\n",
            " 38.72364172 52.6426498  43.62903425 44.29176487 46.28013228 53.69834055\n",
            " 40.92416646 65.9260081  45.36290377 49.13269984]\n",
            "Variance: 83.15032651203487\n",
            "Standard Deviation: 9.118680086067\n"
          ]
        }
      ]
    },
    {
      "cell_type": "markdown",
      "source": [
        "Q23. * Visualize skewness and kurtosis using Python libraries like matplotlib or seaborn.*"
      ],
      "metadata": {
        "id": "0HNUuRYkasQR"
      }
    },
    {
      "cell_type": "code",
      "source": [
        "from scipy.stats import skew, kurtosis\n",
        "\n",
        "data = np.random.normal(loc=50, scale=10, size=100)\n",
        "print(\"Skewness:\", skew(data))\n",
        "print(\"Kurtosis:\", kurtosis(data))\n",
        "\n",
        "sns.histplot(data, kde=True)\n",
        "plt.show()\n"
      ],
      "metadata": {
        "colab": {
          "base_uri": "https://localhost:8080/",
          "height": 465
        },
        "id": "GYXAq70pa2qQ",
        "outputId": "d7471b3c-2bba-4bb3-f7b7-f928f934ddd4"
      },
      "execution_count": 39,
      "outputs": [
        {
          "output_type": "stream",
          "name": "stdout",
          "text": [
            "Skewness: -0.029872259199586863\n",
            "Kurtosis: -0.5089271610918824\n"
          ]
        },
        {
          "output_type": "display_data",
          "data": {
            "text/plain": [
              "<Figure size 640x480 with 1 Axes>"
            ],
            "image/png": "[encoded data removed]"
          },
          "metadata": {}
        }
      ]
    },
    {
      "cell_type": "markdown",
      "source": [
        "Q24. *Implement the Pearson and Spearman correlation coefficients for a dataset.*"
      ],
      "metadata": {
        "id": "lbn5E-XEbQbX"
      }
    },
    {
      "cell_type": "code",
      "source": [
        "from scipy.stats import pearsonr, spearmanr\n",
        "\n",
        "x = [1,2,3,4,5]\n",
        "y = [5,4,3,2,1]\n",
        "pearson_corr, _ = pearsonr(x, y)\n",
        "spearman_corr, _ = spearmanr(x, y)\n",
        "print(\"Pearson Correlation Coefficient:\", pearsonr(x, y))\n",
        "print(\"Spearman Correlation Coefficient:\", spearmanr(x, y))"
      ],
      "metadata": {
        "colab": {
          "base_uri": "https://localhost:8080/"
        },
        "id": "1_xh48lNbZhI",
        "outputId": "b60976ed-3f9c-4a2b-ba40-0dc037df6ab0"
      },
      "execution_count": 40,
      "outputs": [
        {
          "output_type": "stream",
          "name": "stdout",
          "text": [
            "Pearson Correlation Coefficient: PearsonRResult(statistic=np.float64(-1.0), pvalue=np.float64(0.0))\n",
            "Spearman Correlation Coefficient: SignificanceResult(statistic=np.float64(-0.9999999999999999), pvalue=np.float64(1.4042654220543672e-24))\n"
          ]
        }
      ]
    }
  ]
}